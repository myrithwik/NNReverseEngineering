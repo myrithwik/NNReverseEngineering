{
  "cells": [
    {
      "cell_type": "markdown",
      "metadata": {
        "id": "view-in-github",
        "colab_type": "text"
      },
      "source": [
        "<a href=\"https://colab.research.google.com/github/myrithwik/NNReverseEngineering/blob/main/NNReverseEngineering.ipynb\" target=\"_parent\"><img src=\"https://colab.research.google.com/assets/colab-badge.svg\" alt=\"Open In Colab\"/></a>"
      ]
    },
    {
      "cell_type": "code",
      "source": [
        "pip install mnist"
      ],
      "metadata": {
        "colab": {
          "base_uri": "https://localhost:8080/"
        },
        "id": "0YkCSdmFy1Ii",
        "outputId": "0b281afb-272b-499a-bc99-cb2f7c8d70b9"
      },
      "execution_count": null,
      "outputs": [
        {
          "output_type": "stream",
          "name": "stdout",
          "text": [
            "Looking in indexes: https://pypi.org/simple, https://us-python.pkg.dev/colab-wheels/public/simple/\n",
            "Collecting mnist\n",
            "  Downloading mnist-0.2.2-py2.py3-none-any.whl (3.5 kB)\n",
            "Requirement already satisfied: numpy in /usr/local/lib/python3.7/dist-packages (from mnist) (1.21.6)\n",
            "Installing collected packages: mnist\n",
            "Successfully installed mnist-0.2.2\n"
          ]
        }
      ]
    },
    {
      "cell_type": "code",
      "execution_count": null,
      "metadata": {
        "id": "gW8OflUyynKU"
      },
      "outputs": [],
      "source": [
        "import numpy as np\n",
        "import matplotlib.pyplot as plt\n",
        "import pickle\n",
        "from hw2 import get_mnist_threes_nines, display_image\n",
        "%matplotlib inline"
      ]
    },
    {
      "cell_type": "code",
      "source": [
        "(x_train, y_train), (X_test, y_test) = get_mnist_threes_nines()\n",
        "display_image(x_train[2])"
      ],
      "metadata": {
        "colab": {
          "base_uri": "https://localhost:8080/",
          "height": 265
        },
        "id": "BuHFN0oEzbwE",
        "outputId": "b47fa15d-6ac8-4cc7-a5b1-9676f65f0dbd"
      },
      "execution_count": null,
      "outputs": [
        {
          "output_type": "display_data",
          "data": {
            "text/plain": [
              "<Figure size 432x288 with 1 Axes>"
            ],
            "image/png": "[encoded data removed]"
          },
          "metadata": {
            "needs_background": "light"
          }
        }
      ]
    },
    {
      "cell_type": "markdown",
      "metadata": {
        "id": "lGW18OPBynKV"
      },
      "source": [
        "1.2a (finite differences checker, used to help implement `my_nn_finite_difference_checker` in 1.3a."
      ]
    },
    {
      "cell_type": "code",
      "execution_count": null,
      "metadata": {
        "id": "QNK-gjFHynKW"
      },
      "outputs": [],
      "source": [
        "def finite_difference_checker(f, x, k):\n",
        "    \"\"\"Returns \\frac{\\partial f}{\\partial x_k}(x)\"\"\"\n",
        "    epsilon = 0.00001\n",
        "    x_plus = x\n",
        "    x_minus = x\n",
        "    x_minus[k] = x_minus[k] - epsilon\n",
        "    x_plus[k] = x_plus[k] - epsilon\n",
        "    derivative = f(x_plus) - f(x_minus) / (2*epsilon)\n",
        "    return derivative"
      ]
    },
    {
      "cell_type": "markdown",
      "metadata": {
        "id": "JhwQl93uynKW"
      },
      "source": [
        "1.2b (functions that implement neural network layers)"
      ]
    },
    {
      "cell_type": "code",
      "execution_count": null,
      "metadata": {
        "id": "9WbAxgBvynKX"
      },
      "outputs": [],
      "source": [
        "def sigmoid_activation(x):\n",
        "    #for loop through x to do a sigmoid to it: 1/(1+np.exp(-x))\n",
        "    # gradient of sigmoid: np.exp(-x)/(np.exp(-x)+1)**2\n",
        "    overflow = 999\n",
        "    out = np.array([(1/(1+np.exp(-val, where = np.where(\n",
        "        np.sign(val) * val > overflow, False, True)))) for val in x])\n",
        "    out[np.where(-x > overflow, True, False)] = 0\n",
        "    out[np.where(x > overflow, True, False)] = 1\n",
        "    #clip out\n",
        "    out = np.clip(out, 10**-15, 1-(10**-15))\n",
        "    #grad = np.array([(np.exp(-val)/(np.exp(-val)+1)**2) for val in x])\n",
        "    grad = out * (1 - out)\n",
        "    return out, grad\n",
        "\n",
        "def logistic_loss(g, y):\n",
        "    \"\"\"\n",
        "    Computes the loss and gradient for binary classification with logistic\n",
        "    loss\n",
        "\n",
        "    Inputs:\n",
        "    - g: Output of final layer with sigmoid activation,\n",
        "         of shape (n, 1)\n",
        "\n",
        "    - y: Vector of labels, of shape (n,) where y[i] is the label for x[i]\n",
        "         and y[i] in {0, 1}\n",
        "\n",
        "    Returns a tuple of:\n",
        "    - loss: array of losses\n",
        "    - dL_dg: Gradient of the loss with respect to g\n",
        "    \"\"\"\n",
        "    # log_loss = − log{g[i])^y[i](1 − g[i])^1−y[i])}\n",
        "    y = y.reshape((-1,1))\n",
        "    loss = -np.log(np.multiply(np.power(g, y), np.power(1-g, 1-y)))\n",
        "    dL_dg = -(np.divide(y, g) - np.divide(1-y, 1-g))\n",
        "    return loss, dL_dg\n",
        "\n",
        "def relu_activation(s):\n",
        "    out = np.maximum(s, 0)\n",
        "    ds = np.where(s > 0, 1, 0)\n",
        "    return out, ds\n",
        "\n",
        "def layer_forward(x, W, b, activation_fn):\n",
        "    # s = xW, s += b, out = g(s), cache = {s, out}\n",
        "    s = x @ W\n",
        "    s += b\n",
        "    out, d_out = activation_fn(s)\n",
        "    cache = (x, W, b, out, d_out, )\n",
        "    return out, cache"
      ]
    },
    {
      "cell_type": "markdown",
      "metadata": {
        "id": "QN_nijRBynKX"
      },
      "source": [
        "1.3b i, ii (the sigmoid activation)"
      ]
    },
    {
      "cell_type": "code",
      "execution_count": null,
      "metadata": {
        "id": "XULKPydgynKX",
        "colab": {
          "base_uri": "https://localhost:8080/"
        },
        "outputId": "7110ba10-2a15-4a19-8f12-282f6680ec4d"
      },
      "outputs": [
        {
          "output_type": "stream",
          "name": "stdout",
          "text": [
            "[0.73 0.5  0.27]\n",
            "[0.2  0.25 0.2 ]\n",
            "================================================================================\n",
            "[1.e-15 1.e+00]\n",
            "[1.00000000e-15 9.99200722e-16]\n",
            "To get rid of the overflow I put a checker to see if the\n",
            "value of x was too high then set the output to 1 or if it\n",
            "was too low then set it to 0\n"
          ]
        }
      ],
      "source": [
        "# 1.3b i\n",
        "s = np.asarray([1., 0., -1])\n",
        "out, grad = sigmoid_activation(s)\n",
        "with np.printoptions(precision=2):\n",
        "    print(out)\n",
        "    print(grad)\n",
        "print(\"=\"*80)\n",
        "\n",
        "# 1.3b ii\n",
        "s = np.asarray([-1000., 1000.])\n",
        "out, grad = sigmoid_activation(s)\n",
        "\n",
        "print(out)\n",
        "print(grad)\n",
        "print(\"To get rid of the overflow I put a checker to see if the\")\n",
        "print(\"value of x was too high then set the output to 1 or if it\")\n",
        "print(\"was too low then set it to 0\")"
      ]
    },
    {
      "cell_type": "markdown",
      "metadata": {
        "id": "vT8y5IvXynKY"
      },
      "source": [
        "1.2c (in this part if for functions that initialize the neural network's weights. I also code the forward pass which ties everything together, computing the output of a neural network with weights given by `weight_matrices` + `biases`, activation functions given by `activations`, on the input `X_batch`, a 2d input where each row is an individual input vector)"
      ]
    },
    {
      "cell_type": "code",
      "execution_count": null,
      "metadata": {
        "id": "k0rEFiMeynKY"
      },
      "outputs": [],
      "source": [
        "def create_weight_matrices(layer_dims):\n",
        "    \"\"\"\n",
        "    Creates a list of weight matrices defining the weights of NN\n",
        "\n",
        "    Inputs:\n",
        "    - layer_dims: A list whose size is the number of layers. layer_dims[i] defines\n",
        "      the number of neurons in the i+1 layer.\n",
        "\n",
        "    Returns a list of weight matrices\n",
        "    \"\"\"\n",
        "    weights = []\n",
        "    mu = 0\n",
        "    sigma = 0.01\n",
        "    for i in range (0, len(layer_dims) - 1):\n",
        "      weights.append(np.random.normal(mu, sigma, (layer_dims[i], layer_dims[i+1])))\n",
        "    return weights\n",
        "\n",
        "def create_bias_vectors(layer_dims):\n",
        "    biases = []\n",
        "    for i in range(1, len(layer_dims)):\n",
        "      biases.append(np.random.normal(0, 0.01, (1, layer_dims[i])))\n",
        "    return biases\n",
        "\n",
        "def forward_pass(X_batch, weight_matrices, biases, activations):\n",
        "    output = X_batch\n",
        "    layer_caches = []\n",
        "    for i in range(0, len(weight_matrices)):\n",
        "      output, cache = layer_forward(output, weight_matrices[i], biases[i], activations[i])\n",
        "      layer_caches.append(cache)\n",
        "    return output, layer_caches"
      ]
    },
    {
      "cell_type": "markdown",
      "metadata": {
        "id": "Od9dRvVtynKZ"
      },
      "source": [
        "1.3c (run a forward pass of the neural network and compute its logistic loss on some output)"
      ]
    },
    {
      "cell_type": "code",
      "execution_count": null,
      "metadata": {
        "id": "W5pDRL5GynKZ",
        "colab": {
          "base_uri": "https://localhost:8080/"
        },
        "outputId": "3d4545c7-19a3-407a-8616-50af6466cc58"
      },
      "outputs": [
        {
          "output_type": "stream",
          "name": "stdout",
          "text": [
            "0.6985168038536878\n"
          ]
        }
      ],
      "source": [
        "with open(\"test_batch_weights_biases.pkl\", \"rb\") as fn:\n",
        "    (X_batch, y_batch, weight_matrices, biases) = pickle.load(fn)\n",
        "\n",
        "activations = [relu_activation, sigmoid_activation]\n",
        "output, _ = forward_pass(X_batch, weight_matrices, biases,\n",
        "                         activations)\n",
        "loss, dL_dg = logistic_loss(output, y_batch)\n",
        "print(loss.mean())"
      ]
    },
    {
      "cell_type": "markdown",
      "metadata": {
        "id": "nqGfrj9GynKZ"
      },
      "source": [
        "1.3a (compute the gradient w.r.t. `weight_matrices` and `biases` using a finite differences checker)"
      ]
    },
    {
      "cell_type": "code",
      "execution_count": null,
      "metadata": {
        "id": "YBKEN5szynKa",
        "colab": {
          "base_uri": "https://localhost:8080/"
        },
        "outputId": "826d93c5-74d8-4bbb-839f-29f05f9e01fc"
      },
      "outputs": [
        {
          "output_type": "stream",
          "name": "stdout",
          "text": [
            "[[ 4.12e-04  3.34e-05]\n",
            " [-6.56e-05  2.07e-05]\n",
            " [-1.24e-03  8.02e-05]\n",
            " [ 2.26e-04 -1.41e-06]]\n",
            "\n",
            "[[-0.  ]\n",
            " [-0.01]]\n",
            "\n",
            "[[-0.  0.]]\n",
            "\n",
            "[[-0.5]]\n"
          ]
        }
      ],
      "source": [
        "with open(\"test_batch_weights_biases.pkl\", \"rb\") as fn:\n",
        "    (X_batch, y_batch, weight_matrices, biases) = pickle.load(fn)\n",
        "\n",
        "def my_nn_finite_difference_checker(X_batch, y_batch, weight_matrices, biases, activations):\n",
        "    # Finite difference: for weights, biases\n",
        "    epsilon = 1e-5\n",
        "    grad_Ws = [np.zeros_like(weight_matrix) for weight_matrix in weight_matrices]\n",
        "    for i in range(len(weight_matrices)):\n",
        "      for j in range(weight_matrices[i].shape[0]):\n",
        "        for k in range(weight_matrices[i][j].shape[0]):\n",
        "          weight_matrices[i][j][k] += epsilon\n",
        "          forward_pos = forward_pass(X_batch, weight_matrices, biases, activations)[0]\n",
        "          weight_matrices[i][j][k] -= 2 *epsilon\n",
        "          forward_neg = forward_pass(X_batch, weight_matrices, biases, activations)[0]\n",
        "          weight_matrices[i][j][k] += epsilon\n",
        "          forward_pos_loss = logistic_loss(np.squeeze(forward_pos), y_batch)[0]\n",
        "          forward_neg_loss = logistic_loss(np.squeeze(forward_neg), y_batch)[0]\n",
        "          grad_Ws[i][j][k] = (np.mean(forward_pos_loss) - np.mean(forward_neg_loss)) / (2*epsilon)\n",
        "\n",
        "    grad_bs = [np.zeros_like(bias) for bias in biases]\n",
        "    for i in range(len(biases)):\n",
        "      for j in range(biases[i].shape[0]):\n",
        "        for k in range(biases[i][j].shape[0]):\n",
        "          biases[i][j][k] += epsilon\n",
        "          forward_pos = forward_pass(X_batch, weight_matrices, biases, activations)[0]\n",
        "          biases[i][j][k] -= 2 * epsilon\n",
        "          forward_neg = forward_pass(X_batch, weight_matrices, biases, activations)[0]\n",
        "          biases[i][j][k] += epsilon\n",
        "          forward_pos_loss = logistic_loss(forward_pos, y_batch)[0]\n",
        "          forward_neg_loss = logistic_loss(forward_neg, y_batch)[0]\n",
        "          grad_bs[i][j][k] = (np.mean(forward_pos_loss) -\n",
        "                              np.mean(forward_neg_loss)) / (2*epsilon)\n",
        "\n",
        "    return grad_Ws, grad_bs\n",
        "\n",
        "grad_Ws, grad_bs = my_nn_finite_difference_checker(X_batch,\n",
        "                                                   y_batch,\n",
        "                                                   weight_matrices,\n",
        "                                                   biases,\n",
        "                                                   activations)\n",
        "\n",
        "with np.printoptions(precision=2):\n",
        "    print(grad_Ws[0])\n",
        "    print()\n",
        "    print(grad_Ws[1])\n",
        "    print()\n",
        "    print(grad_bs[0])\n",
        "    print()\n",
        "    print(grad_bs[1])"
      ]
    },
    {
      "cell_type": "markdown",
      "metadata": {
        "id": "kHkGFUAjynKa"
      },
      "source": [
        "1.2d (the backward pass)"
      ]
    },
    {
      "cell_type": "code",
      "execution_count": null,
      "metadata": {
        "id": "D-Rebt14ynKa"
      },
      "outputs": [],
      "source": [
        "def backward_pass(dL_dg, layer_caches):\n",
        "    grad_Ws = [np.zeros_like(weight_matrix) for weight_matrix in weight_matrices]\n",
        "    grad_bs = [np.zeros_like(bias) for bias in biases]\n",
        "    sum_del = dL_dg\n",
        "    mini_batch = dL_dg.shape[0]\n",
        "    #base case:\n",
        "    for l in range(len(layer_caches) - 1, -1, -1):\n",
        "      #read from layer cache\n",
        "      x, W, b, out, d_out = layer_caches[l]\n",
        "      del_s = sum_del * d_out\n",
        "      dL_dw = np.dot(x.T, del_s)\n",
        "      grad_Ws[l] = dL_dw / mini_batch\n",
        "      sum_del = np.dot(del_s,  W.T)\n",
        "      grad_bs[l] = np.mean(del_s, axis = 0).reshape((1, -1))\n",
        "    return grad_Ws, grad_bs"
      ]
    },
    {
      "cell_type": "markdown",
      "metadata": {
        "id": "z8qQTxfgynKa"
      },
      "source": [
        "1.3d (test the backward pass! compare it with 1.3a, the gradient computed by the finite difference checker. The answers should match!)"
      ]
    },
    {
      "cell_type": "code",
      "execution_count": null,
      "metadata": {
        "id": "wYkHidevynKa",
        "colab": {
          "base_uri": "https://localhost:8080/"
        },
        "outputId": "627aa0f9-bb41-41f0-fe34-180cd50296d1"
      },
      "outputs": [
        {
          "output_type": "stream",
          "name": "stdout",
          "text": [
            "[[ 4.12e-04  3.34e-05]\n",
            " [-6.56e-05  2.07e-05]\n",
            " [-1.24e-03  8.02e-05]\n",
            " [ 2.26e-04 -1.41e-06]]\n",
            "\n",
            "[[-0.  ]\n",
            " [-0.01]]\n",
            "\n",
            "[[-0.  0.]]\n",
            "\n",
            "[[-0.5]]\n"
          ]
        }
      ],
      "source": [
        "with open(\"test_batch_weights_biases.pkl\", \"rb\") as fn:\n",
        "    (X_batch, y_batch, weight_matrices, biases) = pickle.load(fn)\n",
        "\n",
        "activations = [relu_activation, sigmoid_activation]\n",
        "output, layer_caches = forward_pass(X_batch, weight_matrices, biases,\n",
        "                                    activations)\n",
        "loss, dL_dg = logistic_loss(output, y_batch)\n",
        "grad_Ws, grad_bs = backward_pass(dL_dg, layer_caches)\n",
        "\n",
        "with np.printoptions(precision=2):\n",
        "    print(grad_Ws[0])\n",
        "    print()\n",
        "    print(grad_Ws[1])\n",
        "    print()\n",
        "    print(grad_bs[0])\n",
        "    print()\n",
        "    print(grad_bs[1])\n",
        "\n"
      ]
    },
    {
      "cell_type": "markdown",
      "metadata": {
        "id": "7oo51zW1ynKb"
      },
      "source": [
        "1.2e (train the neural network on MNIST! save the training and test losses and accuracies at each iteration to use in 1.3e)"
      ]
    },
    {
      "cell_type": "code",
      "execution_count": null,
      "metadata": {
        "id": "XV6W7AOIynKb",
        "colab": {
          "base_uri": "https://localhost:8080/"
        },
        "outputId": "369c52f7-f537-4ed6-a74e-2b46ded096b6"
      },
      "outputs": [
        {
          "output_type": "stream",
          "name": "stdout",
          "text": [
            "(12080, 28, 28)\n"
          ]
        }
      ],
      "source": [
        "(X_train, y_train), (X_test, y_test) = get_mnist_threes_nines()\n",
        "print(X_train.shape)\n",
        "X_train = X_train.reshape(12080, 28*28)\n",
        "X_test = X_test.reshape(2019, 28*28)\n",
        "y_train_stack = [[y] for y in y_train]\n",
        "#y_test_stack = [[y] for y in y_test]\n",
        "batch_size = 100\n",
        "step_size = .1\n",
        "\n",
        "train_loss = []\n",
        "test_loss = []\n",
        "train_accuracy = []\n",
        "test_accuracy = []\n",
        "misclassified = {}\n",
        "\n",
        "layers = [784, 200, 1]\n",
        "activations = [relu_activation, sigmoid_activation]\n",
        "weights = create_weight_matrices(layers)\n",
        "biases = create_bias_vectors(layers)\n",
        "\n",
        "\n",
        "for i in range(5):\n",
        "  train_w_y = np.hstack((X_train, y_train_stack))\n",
        "  np.random.shuffle(train_w_y)\n",
        "  x_batch = np.delete(train_w_y, -1, axis=1)\n",
        "  y_batch = train_w_y[:, -1]\n",
        "  x_batch_split = np.array_split(x_batch, batch_size)\n",
        "  y_batch_split = np.array_split(y_batch, batch_size)\n",
        "\n",
        "  for j in range(batch_size):\n",
        "    totalCorrect = 0\n",
        "    totalPredictions = 0\n",
        "    output_test, cache = forward_pass(X_test, weights, biases, activations)\n",
        "    loss_test, d_loss_train = logistic_loss(output_test, y_test)\n",
        "    loss_test = loss_test.mean()\n",
        "    test_loss.append(loss_test)\n",
        "    for val in range(output_test.shape[0]):\n",
        "      totalPredictions += 1\n",
        "      if output_test[val] > 0.5:\n",
        "        if y_test[val] == 1:\n",
        "          totalCorrect += 1\n",
        "        else:\n",
        "          misclassified[val + (i * batch_size)] = output_test[val]\n",
        "      else:\n",
        "        if y_test[val] == 0:\n",
        "          totalCorrect += 1\n",
        "        else:\n",
        "          misclassified[val + (i * batch_size)] = output_test[val]\n",
        "    test_accuracy.append(totalCorrect / totalPredictions)\n",
        "\n",
        "    output, layer_cache = forward_pass(x_batch_split[j], weights, biases, activations)\n",
        "    loss_train, dL_dg = logistic_loss(output, y_batch_split[j])\n",
        "    loss_train = loss_train.mean()\n",
        "    train_loss.append(loss_train)\n",
        "\n",
        "    totalPredictions = 0\n",
        "    totalCorrect = 0\n",
        "\n",
        "    for val in range(output.shape[0]):\n",
        "      totalPredictions += 1\n",
        "      if output[val] > 0.5:\n",
        "        if y_batch_split[j][val] == 1:\n",
        "          totalCorrect += 1\n",
        "      else:\n",
        "        if y_batch_split[j][val] == 0:\n",
        "          totalCorrect += 1\n",
        "    train_accuracy.append(totalCorrect / totalPredictions)\n",
        "\n",
        "    grad_Ws, grad_bs = backward_pass(dL_dg, layer_cache)\n",
        "    for w in range(len(weights)):\n",
        "      weights[w] = weights[w] - (step_size * grad_Ws[w])\n",
        "      biases[w] = biases[w] - (step_size * grad_bs[w])\n"
      ]
    },
    {
      "cell_type": "markdown",
      "metadata": {
        "id": "gmV2jOHyynKb"
      },
      "source": [
        "1.3e code answers for i, ii, iii"
      ]
    },
    {
      "cell_type": "code",
      "execution_count": null,
      "metadata": {
        "id": "eZ4ahs2NynKb",
        "colab": {
          "base_uri": "https://localhost:8080/",
          "height": 283
        },
        "outputId": "93a1db52-c449-4f69-a13e-985d917ac2e5"
      },
      "outputs": [
        {
          "output_type": "execute_result",
          "data": {
            "text/plain": [
              "[<matplotlib.lines.Line2D at 0x7f568d705fd0>]"
            ]
          },
          "metadata": {},
          "execution_count": 14
        },
        {
          "output_type": "display_data",
          "data": {
            "text/plain": [
              "<Figure size 432x288 with 1 Axes>"
            ],
            "image/png": "[encoded data removed]"
          },
          "metadata": {
            "needs_background": "light"
          }
        }
      ],
      "source": [
        "# i\n",
        "# Plot the train and test losses from the MNIST network with step size = 0.1\n",
        "#print(test_loss)\n",
        "plt.plot(train_loss)\n",
        "plt.plot(test_loss)"
      ]
    },
    {
      "cell_type": "code",
      "source": [
        "# ii\n",
        "# Plot the train and test accuracies from the MNIST network with step size = 0.1\n",
        "plt.plot(train_accuracy)\n",
        "plt.plot(test_accuracy)"
      ],
      "metadata": {
        "colab": {
          "base_uri": "https://localhost:8080/",
          "height": 283
        },
        "id": "oCubHzlXRli2",
        "outputId": "7566a0e4-5303-4a0b-d2aa-f6e6a054249e"
      },
      "execution_count": null,
      "outputs": [
        {
          "output_type": "execute_result",
          "data": {
            "text/plain": [
              "[<matplotlib.lines.Line2D at 0x7f568fd61e50>]"
            ]
          },
          "metadata": {},
          "execution_count": 15
        },
        {
          "output_type": "display_data",
          "data": {
            "text/plain": [
              "<Figure size 432x288 with 1 Axes>"
            ],
            "image/png": "[encoded data removed]"
          },
          "metadata": {
            "needs_background": "light"
          }
        }
      ]
    },
    {
      "cell_type": "code",
      "source": [
        "# iii\n",
        "# Visualize (plot) some images that are misclassified by your network\n",
        "index, output_val = list(misclassified.items())[-1]\n",
        "display_image(x_train[index])\n",
        "print(output_val)\n",
        "index, output_val = list(misclassified.items())[-2]\n",
        "display_image(x_train[index])\n",
        "print(output_val)\n",
        "index, output_val = list(misclassified.items())[-3]\n",
        "display_image(x_train[index])\n",
        "print(output_val)"
      ],
      "metadata": {
        "colab": {
          "base_uri": "https://localhost:8080/",
          "height": 318
        },
        "id": "lE4bUSgLRlJ6",
        "outputId": "528588cc-cee1-4c9d-e564-172479bfef3d"
      },
      "execution_count": null,
      "outputs": [
        {
          "output_type": "stream",
          "name": "stdout",
          "text": [
            "[0.52131257]\n",
            "[0.50405716]\n",
            "[0.51298292]\n"
          ]
        },
        {
          "output_type": "display_data",
          "data": {
            "text/plain": [
              "<Figure size 432x288 with 1 Axes>"
            ],
            "image/png": "[encoded data removed]"
          },
          "metadata": {
            "needs_background": "light"
          }
        }
      ]
    }
  ],
  "metadata": {
    "kernelspec": {
      "display_name": "Python 3 (ipykernel)",
      "language": "python",
      "name": "python3"
    },
    "language_info": {
      "codemirror_mode": {
        "name": "ipython",
        "version": 3
      },
      "file_extension": ".py",
      "mimetype": "text/x-python",
      "name": "python",
      "nbconvert_exporter": "python",
      "pygments_lexer": "ipython3",
      "version": "3.7.6"
    },
    "colab": {
      "provenance": [],
      "include_colab_link": true
    }
  },
  "nbformat": 4,
  "nbformat_minor": 0
}